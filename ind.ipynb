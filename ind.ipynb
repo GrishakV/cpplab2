{
 "cells": [
  {
   "cell_type": "markdown",
   "metadata": {},
   "source": [
    "Дана целочисленная прямоугольная матрица. Определить:\n",
    "- количество положительных элементов в тех строках, которые не содержат нулевых\n",
    "элементов;\n",
    "- номера строк и столбцов всех седловых точек матрицы.\n",
    "\n",
    "Примечание. Матрица А имеет седловую точку А если А является минимальным\n",
    "элементом в -i строке и максимальным в -j столбце."
   ]
  },
  {
   "cell_type": "markdown",
   "metadata": {},
   "source": [
    "Задание 1."
   ]
  },
  {
   "cell_type": "code",
   "execution_count": 2,
   "metadata": {},
   "outputs": [
    {
     "name": "stdout",
     "output_type": "stream",
     "text": [
      "[[ 3  1  2 -6  0  0 -6  4  0 -3  8  0  3  9  4]\n",
      " [ 7  0  4 -5  1  4  2 -4 -2 -3  7  7 -1 -3  5]\n",
      " [ 1  4 -6 -4 -5  6  2 -7  2 -4 -6  6 -9  1 -8]\n",
      " [ 7  5  2  4 -4  6 -2 -6  5 -5  1 -6  6  0  5]\n",
      " [ 9 -9  9  4  2  5 -5 -7  9 -5  1  1 -2  4 -9]\n",
      " [ 6  9 -4  1  3  6  6 -1  1 -4 -9 -6 -9  6 -3]\n",
      " [ 9 -1 -1 -1 -6  1  6  9 -1 -9  5  1  5 -2 -6]\n",
      " [-5 -2  3 -5  8 -8 -2  4  9  8 -9  5  2  3 -9]\n",
      " [ 2  6  7  7  3 -9 -9 -9  9 -7  1 -9 -7 -1 -4]\n",
      " [-1  5  4 -8  3 -8 -7 -5  1 -2  5 -9  8  6  5]\n",
      " [-1  0  8 -4  9  6 -4  4 -6 -6  2 -1 -7 -7 -2]\n",
      " [-7  0  3  8 -9  4 -4  9 -4 -6  9  7  3 -9  8]\n",
      " [-8 -3  6  1 -6  5 -1  5 -7 -1  9  0 -5  5 -9]\n",
      " [ 7 -7 -6 -5  4  1  5 -8  0  9 -5 -9  8 -7  8]\n",
      " [-9 -1  3 -8  6 -2  7 -6  8  4  9  5 -5 -8 -3]\n",
      " [ 2 -3 -4  7  4 -5  2 -9  4 -3 -6 -8  9 -6  3]\n",
      " [ 9 -2 -7 -3  7 -3  4  6  7 -4  8 -6  0  8  0]\n",
      " [ 3 -2  5  5 -5 -4  2  2 -3  7  9  8 -4 -5 -4]\n",
      " [-3 -9  4 -3  3  8 -8  3 -3 -4  2  2 -7 -6  8]\n",
      " [ 0 -7 -6  9  5  1  7  7  9  5 -7 -3 -3 -8 -3]]\n"
     ]
    }
   ],
   "source": [
    "import numpy as np\n",
    "matr = np.random.randint(-9, 10, size = (20, 15))\n",
    "print(matr)"
   ]
  },
  {
   "cell_type": "code",
   "execution_count": 3,
   "metadata": {},
   "outputs": [
    {
     "data": {
      "text/plain": [
       "array([[ 1,  4, -6, -4, -5,  6,  2, -7,  2, -4, -6,  6, -9,  1, -8],\n",
       "       [ 9, -9,  9,  4,  2,  5, -5, -7,  9, -5,  1,  1, -2,  4, -9],\n",
       "       [ 6,  9, -4,  1,  3,  6,  6, -1,  1, -4, -9, -6, -9,  6, -3],\n",
       "       [ 9, -1, -1, -1, -6,  1,  6,  9, -1, -9,  5,  1,  5, -2, -6],\n",
       "       [-5, -2,  3, -5,  8, -8, -2,  4,  9,  8, -9,  5,  2,  3, -9],\n",
       "       [ 2,  6,  7,  7,  3, -9, -9, -9,  9, -7,  1, -9, -7, -1, -4],\n",
       "       [-1,  5,  4, -8,  3, -8, -7, -5,  1, -2,  5, -9,  8,  6,  5],\n",
       "       [-9, -1,  3, -8,  6, -2,  7, -6,  8,  4,  9,  5, -5, -8, -3],\n",
       "       [ 2, -3, -4,  7,  4, -5,  2, -9,  4, -3, -6, -8,  9, -6,  3],\n",
       "       [ 3, -2,  5,  5, -5, -4,  2,  2, -3,  7,  9,  8, -4, -5, -4],\n",
       "       [-3, -9,  4, -3,  3,  8, -8,  3, -3, -4,  2,  2, -7, -6,  8]])"
      ]
     },
     "execution_count": 3,
     "metadata": {},
     "output_type": "execute_result"
    }
   ],
   "source": [
    "a = (matr != 0).all(axis=1)\n",
    "b = matr[a, :]\n",
    "b"
   ]
  },
  {
   "cell_type": "code",
   "execution_count": 4,
   "metadata": {},
   "outputs": [
    {
     "data": {
      "text/plain": [
       "83"
      ]
     },
     "execution_count": 4,
     "metadata": {},
     "output_type": "execute_result"
    }
   ],
   "source": [
    "np.sum(b > 0)"
   ]
  },
  {
   "cell_type": "markdown",
   "metadata": {},
   "source": [
    "Задание 2."
   ]
  },
  {
   "cell_type": "code",
   "execution_count": 5,
   "metadata": {},
   "outputs": [
    {
     "name": "stdout",
     "output_type": "stream",
     "text": [
      "[[-1  1 -1]\n",
      " [ 1  0  0]\n",
      " [ 0  1 -1]\n",
      " [-1 -1  1]]\n"
     ]
    }
   ],
   "source": [
    "m = np.random.randint(-2, 2, size = (4, 3))\n",
    "print(m)"
   ]
  },
  {
   "cell_type": "code",
   "execution_count": 6,
   "metadata": {},
   "outputs": [
    {
     "name": "stdout",
     "output_type": "stream",
     "text": [
      "[(0, 0), (0, 2), (1, 1), (1, 2), (2, 2), (3, 0), (3, 1)]\n"
     ]
    }
   ],
   "source": [
    "min_list_index = []\n",
    "z = np.min(m, axis=1)\n",
    "for i, (row, value_min) in enumerate(zip(m, z)):\n",
    "    for j, item_min in enumerate(row):\n",
    "        if value_min == item_min:\n",
    "            tpl_min = (i, j)\n",
    "            min_list_index.append(tpl_min)\n",
    "print(min_list_index)"
   ]
  },
  {
   "cell_type": "code",
   "execution_count": 9,
   "metadata": {},
   "outputs": [
    {
     "name": "stdout",
     "output_type": "stream",
     "text": [
      "[(1, 0), (0, 1), (1, 2)]\n"
     ]
    }
   ],
   "source": [
    "max_list_index = []\n",
    "x = np.max(m, axis=0)\n",
    "for k, (col, value_max) in enumerate(zip(m, x)):\n",
    "    for l, item_max in enumerate(col):\n",
    "        if value_max == item_max:\n",
    "            tpl_max = (l, k)\n",
    "            max_list_index.append(tpl_max)\n",
    "print(max_list_index)"
   ]
  },
  {
   "cell_type": "code",
   "execution_count": 8,
   "metadata": {},
   "outputs": [
    {
     "name": "stdout",
     "output_type": "stream",
     "text": [
      "(1, 2) - седловая точка матрицы\n"
     ]
    }
   ],
   "source": [
    "for min_idx in min_list_index:\n",
    "    for max_idx in max_list_index:\n",
    "        if min_idx == max_idx:\n",
    "            print(f'{min_idx} - седловая точка матрицы')          "
   ]
  }
 ],
 "metadata": {
  "kernelspec": {
   "display_name": "Python 3",
   "language": "python",
   "name": "python3"
  },
  "language_info": {
   "codemirror_mode": {
    "name": "ipython",
    "version": 3
   },
   "file_extension": ".py",
   "mimetype": "text/x-python",
   "name": "python",
   "nbconvert_exporter": "python",
   "pygments_lexer": "ipython3",
   "version": "3.8.5"
  }
 },
 "nbformat": 4,
 "nbformat_minor": 4
}
